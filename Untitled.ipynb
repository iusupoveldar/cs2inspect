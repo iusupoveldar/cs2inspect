{
 "cells": [
  {
   "cell_type": "code",
   "execution_count": 1,
   "id": "8b46084d-e7f2-4126-b7dd-a7f22ad08422",
   "metadata": {},
   "outputs": [],
   "source": [
    "import requests\n",
    "# https://api.cs2inspects.com/getFakeInspectLink2"
   ]
  },
  {
   "cell_type": "code",
   "execution_count": 3,
   "id": "f1b79d5b-5fb0-4e61-b067-f9bacaf6c836",
   "metadata": {},
   "outputs": [],
   "source": [
    "body =[\n",
    "  {\n",
    "    \"item_type\": \"knife\",\n",
    "    \"steamid\": \"\",\n",
    "    \"item_id\": 515,\n",
    "    \"skin_id\": \"415\",\n",
    "    \"pattern_id\": 4,\n",
    "    \"float_value\": 0,\n",
    "    \"stattrak_enabled\": 0,\n",
    "    \"stattrak_value\": 0,\n",
    "    \"nametag_enabled\": 0,\n",
    "    \"nametag_value\": \"\",\n",
    "    \"regen\": True,\n",
    "    \"item_image\": \"https://i.cs2inspects.com/images/econ/default_generated/weapon_knife_butterfly_am_ruby_marbleized_light_png.webp\",\n",
    "    \"item_rarity\": \"Covert\",\n",
    "    \"item_name\": \"★ Butterfly Knife | Doppler | Ruby\"\n",
    "  }\n",
    "]\n",
    "res = requests.post(url = 'https://api.cs2inspects.com/getFakeInspectLink2', json=body)"
   ]
  },
  {
   "cell_type": "code",
   "execution_count": 9,
   "id": "7dbd5061-57b4-4851-928a-ba2772e9ef73",
   "metadata": {},
   "outputs": [
    {
     "data": {
      "text/plain": [
       "'f2f3e5cf842e9b686ead8936446eca6a2952f7a29fd5ab2abed534e8381efdfe878fb326bf6af4833e7c0e0472e5c236deea286b2a51780c9ae68cbc962515e2e0925788c3847e52c8fd69c98b9a378902e8909d671ad89a068b00bf8b5ec02ff7400454e8f0e5cffbe00d49029734fa63f57cad27b43173f05a28cbda870bd5bbef4ca2c61a73b425258a6f9d4a97def8f2bd0bb21fb34d492953563e15a3934b616874b7e6417e6f47fe2e33fda7553c7cc2f613ea92a212035baf791401fc19e096952512601dcb8283d88bbbed66ea0b84570342ce881931ab8834a8f899a8c6d8799da73e3c813c5cd40e224862ab9a0ffe3453add2238f86c370163c8425a27793fe0294e9cff352d446fdb97d7cf6ac113c53219318fd36e2eb2d8db1cde10ba7fa7ef5183b09e6bfb600d0c5ed3fec1319102930cc4778f3333e2a63b7a34c4782587e32b12daad1c85fec7cbb9531967208613b7a17b95da88a061a104be2b14c02914b162e4ca5d8688edec9d2422b20367e8e51b0314ca8211ff7af92ff17975e1bb254f94655f06fd9c4f3621d471b5bee2b41adf2272d96b5e3abee61e5dc5b52edc6c24df6b56962eff573ddda221e5f24518c2a9d222302d7d4ca7c65148e68aecf8270a464fe1d8022ce706ff97e86f3806172e71f4396430033643d384e7a75886cb41fad359717819ccedf048338cbfdd7a3ce6935c0fed753a8ebd7ab4bc82d7f4401116cf6bf3514f4ed6ab3438f6afb184575be30062dfa62286b64d060524f1ddb632112dcc5dfe3cdb98aa99459d23ea4d30e087a6d51cc0f72ad7bc3686693194d084582949eb643934a1431ff884865903437372d1b7e7ab642d8ef6368265b96c7e7cb9aba0a2a1dbb024c5ed614d10302b4239f751c0353e02f555151535ab5ca1fe29f59e63bd8cec46e596ae7682f7e84f0d53ba38b84d5977336f88f2b081e2427e57a509df053ca30363d6e7dac81c273b57b29df89f2e9d261b056921f6d002007cd5ef98e45753e470c9adf47854a7fad183b0f5992733150358a1240d381532a6d3471c4035e97b6f8c90331dbd4c68dad14ddfe1dac0a8c6015fb287c1747fe5f42b8269e2517dbd286ef1d2b47462f27a54e1c65e434de838f0917e020034948d28005af6d14924fd3c4868ec0dd5b89001ddae004b2fcbedd141ad7e57e94f2861e446c77923106a58ec6f31b98968da33ca4ac9e50aed9ca26e169070c24dea6b38e5c7125280062ea2f841849237c806c6487133b959e1fd68076eab39893b7c560def8bd5060eec2bbc074744c18a5781118ad28dde7ba5a8f10cac226b2353feb5ff59f9335ccd009743df963e25bf3806e44dbd256d314e943bd3f'"
      ]
     },
     "execution_count": 9,
     "metadata": {},
     "output_type": "execute_result"
    }
   ],
   "source": [
    "res.json()"
   ]
  },
  {
   "cell_type": "code",
   "execution_count": null,
   "id": "be8e01a0-619c-4b2c-b9bf-a3d9e0c2f360",
   "metadata": {},
   "outputs": [],
   "source": []
  }
 ],
 "metadata": {
  "kernelspec": {
   "display_name": "Python 3 (ipykernel)",
   "language": "python",
   "name": "python3"
  },
  "language_info": {
   "codemirror_mode": {
    "name": "ipython",
    "version": 3
   },
   "file_extension": ".py",
   "mimetype": "text/x-python",
   "name": "python",
   "nbconvert_exporter": "python",
   "pygments_lexer": "ipython3",
   "version": "3.11.7"
  }
 },
 "nbformat": 4,
 "nbformat_minor": 5
}
