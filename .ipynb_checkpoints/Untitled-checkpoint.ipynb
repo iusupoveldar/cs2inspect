{
 "cells": [
  {
   "cell_type": "code",
   "execution_count": 1,
   "id": "8b46084d-e7f2-4126-b7dd-a7f22ad08422",
   "metadata": {},
   "outputs": [],
   "source": [
    "import requests\n",
    "# https://api.cs2inspects.com/getFakeInspectLink2"
   ]
  },
  {
   "cell_type": "code",
   "execution_count": null,
   "id": "f1b79d5b-5fb0-4e61-b067-f9bacaf6c836",
   "metadata": {},
   "outputs": [],
   "source": [
    "body =[\n",
    "  {\n",
    "    \"item_type\": \"knife\",\n",
    "    \"steamid\": \"\",\n",
    "    \"item_id\": 515,\n",
    "    \"skin_id\": \"415\",\n",
    "    \"pattern_id\": 4,\n",
    "    \"float_value\": 0,\n",
    "    \"stattrak_enabled\": 0,\n",
    "    \"stattrak_value\": 0,\n",
    "    \"nametag_enabled\": 0,\n",
    "    \"nametag_value\": \"\",\n",
    "    \"regen\": true,\n",
    "    \"item_image\": \"https://i.cs2inspects.com/images/econ/default_generated/weapon_knife_butterfly_am_ruby_marbleized_light_png.webp\",\n",
    "    \"item_rarity\": \"Covert\",\n",
    "    \"item_name\": \"★ Butterfly Knife | Doppler | Ruby\"\n",
    "  }\n",
    "]\n",
    "res = requests.post(url = 'https://api.cs2inspects.com/getFakeInspectLink2', json=)"
   ]
  }
 ],
 "metadata": {
  "kernelspec": {
   "display_name": "Python 3 (ipykernel)",
   "language": "python",
   "name": "python3"
  },
  "language_info": {
   "codemirror_mode": {
    "name": "ipython",
    "version": 3
   },
   "file_extension": ".py",
   "mimetype": "text/x-python",
   "name": "python",
   "nbconvert_exporter": "python",
   "pygments_lexer": "ipython3",
   "version": "3.11.7"
  }
 },
 "nbformat": 4,
 "nbformat_minor": 5
}
